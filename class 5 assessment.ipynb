{
 "cells": [
  {
   "cell_type": "code",
   "execution_count": 1,
   "id": "a0c94a46-5b60-45c7-bd71-017c59cf7a73",
   "metadata": {},
   "outputs": [],
   "source": [
    "import pandas as pd"
   ]
  },
  {
   "cell_type": "code",
   "execution_count": 2,
   "id": "2630b25b-4a5a-436c-adbd-f539a5ca8f18",
   "metadata": {},
   "outputs": [],
   "source": [
    "# Step 1: Load all CSVs\n",
    "df1 = pd.read_csv('sales_data/india.csv')\n",
    "df2 = pd.read_csv('sales_data/usa.csv')\n",
    "df3 = pd.read_csv('sales_data/germany.csv')"
   ]
  },
  {
   "cell_type": "code",
   "execution_count": 3,
   "id": "3f031441-6eda-4929-a642-89e222c67726",
   "metadata": {},
   "outputs": [],
   "source": [
    "# Step 2: Combine\n",
    "df = pd.concat([df1, df2, df3], ignore_index=True)"
   ]
  },
  {
   "cell_type": "code",
   "execution_count": 4,
   "id": "9ce5037b-ff72-4fe2-8259-dbe210eaecd1",
   "metadata": {},
   "outputs": [],
   "source": [
    "# Step 3: Add revenue column if needed\n",
    "df['Revenue'] = df['Quantity'] * df['UnitPrice']"
   ]
  },
  {
   "cell_type": "code",
   "execution_count": 5,
   "id": "21294d42-4303-41cb-ac4a-f0a7a76bdea8",
   "metadata": {},
   "outputs": [],
   "source": [
    "# Step 4: Country → Continent map\n",
    "country_to_continent = {\n",
    "    'India': 'Asia',\n",
    "    'USA': 'North America',\n",
    "    'Germany': 'Europe'\n",
    "}\n",
    "df['Continent'] = df['Country'].map(country_to_continent)"
   ]
  },
  {
   "cell_type": "code",
   "execution_count": 6,
   "id": "1a4846af-07c7-441c-921f-9ad7efb5e858",
   "metadata": {},
   "outputs": [
    {
     "name": "stdout",
     "output_type": "stream",
     "text": [
      "       Continent  Revenue\n",
      "0           Asia     2000\n",
      "1         Europe     2300\n",
      "2  North America     2100\n"
     ]
    }
   ],
   "source": [
    "# Step 5: Total revenue by continent\n",
    "result = df.groupby('Continent')['Revenue'].sum().reset_index()\n",
    "print(result)"
   ]
  },
  {
   "cell_type": "code",
   "execution_count": null,
   "id": "1380e2f5-7e03-4334-be4f-c1fd817cf013",
   "metadata": {},
   "outputs": [],
   "source": []
  }
 ],
 "metadata": {
  "kernelspec": {
   "display_name": "Python 3 (ipykernel)",
   "language": "python",
   "name": "python3"
  },
  "language_info": {
   "codemirror_mode": {
    "name": "ipython",
    "version": 3
   },
   "file_extension": ".py",
   "mimetype": "text/x-python",
   "name": "python",
   "nbconvert_exporter": "python",
   "pygments_lexer": "ipython3",
   "version": "3.13.5"
  }
 },
 "nbformat": 4,
 "nbformat_minor": 5
}
